{
  "nbformat": 4,
  "nbformat_minor": 0,
  "metadata": {
    "colab": {
      "provenance": [],
      "authorship_tag": "ABX9TyMSdZfl7oMyRtsgfoXuIpRr",
      "include_colab_link": true
    },
    "kernelspec": {
      "name": "python3",
      "display_name": "Python 3"
    },
    "language_info": {
      "name": "python"
    }
  },
  "cells": [
    {
      "cell_type": "markdown",
      "metadata": {
        "id": "view-in-github",
        "colab_type": "text"
      },
      "source": [
        "<a href=\"https://colab.research.google.com/github/OmNaidu123/weather-model/blob/main/weather_app.ipynb\" target=\"_parent\"><img src=\"https://colab.research.google.com/assets/colab-badge.svg\" alt=\"Open In Colab\"/></a>"
      ]
    },
    {
      "cell_type": "code",
      "execution_count": 1,
      "metadata": {
        "colab": {
          "base_uri": "https://localhost:8080/"
        },
        "collapsed": true,
        "id": "S1jjGvtgcDHK",
        "outputId": "db9a318b-dd87-4d83-d4cc-87f5cd3f0c94"
      },
      "outputs": [
        {
          "output_type": "stream",
          "name": "stdout",
          "text": [
            "Requirement already satisfied: pandas in /usr/local/lib/python3.10/dist-packages (2.2.2)\n",
            "Requirement already satisfied: openpyxl in /usr/local/lib/python3.10/dist-packages (3.1.5)\n",
            "Requirement already satisfied: numpy>=1.22.4 in /usr/local/lib/python3.10/dist-packages (from pandas) (1.26.4)\n",
            "Requirement already satisfied: python-dateutil>=2.8.2 in /usr/local/lib/python3.10/dist-packages (from pandas) (2.8.2)\n",
            "Requirement already satisfied: pytz>=2020.1 in /usr/local/lib/python3.10/dist-packages (from pandas) (2024.2)\n",
            "Requirement already satisfied: tzdata>=2022.7 in /usr/local/lib/python3.10/dist-packages (from pandas) (2024.2)\n",
            "Requirement already satisfied: et-xmlfile in /usr/local/lib/python3.10/dist-packages (from openpyxl) (2.0.0)\n",
            "Requirement already satisfied: six>=1.5 in /usr/local/lib/python3.10/dist-packages (from python-dateutil>=2.8.2->pandas) (1.16.0)\n"
          ]
        }
      ],
      "source": [
        "pip install pandas openpyxl"
      ]
    },
    {
      "cell_type": "code",
      "source": [
        "import pandas as pd\n",
        "import numpy as np\n",
        "from openpyxl import load_workbook\n",
        "def classify_weather(tw):\n",
        "  if(tw > 350):\n",
        "    return \"Sunny\"\n",
        "  elif(250 < tw <= 350):\n",
        "    return \"Cloudy\"\n",
        "  elif(150 < tw <= 250):\n",
        "    return \"Rainy\"\n",
        "  else:\n",
        "    return \"Stromy\"\n",
        "data = pd.read_excel('/content/sample_data/weather-data.xlsx')\n",
        "wb = load_workbook(\"/content/sample_data/new-weather-data.xlsx\")\n",
        "sheet = wb.active\n",
        "filtered_rows = []\n",
        "for _, row in data.iterrows():\n",
        "    values = [val for val in row if isinstance(val, (int, float, np.number, pd.Timestamp))]\n",
        "    filtered_rows.append(values)\n",
        "weatherData = []\n",
        "for row in filtered_rows:\n",
        "    w = (0.5*row[2]*row[2]) - (0.2*row[1]) + (0.1*row[3]) - 15\n",
        "    values = [row[0].strftime('%Y-%m-%d'), w];\n",
        "    weatherData.append(values)\n",
        "print(\"do you want to enter your own data or get data from existing file? press 0 for your own data, press 1 to get exsisting data\");\n",
        "i = int(input());\n",
        "if(i == 0):\n",
        "  print(\"enter temp: \")\n",
        "  t = int(input())\n",
        "  print(\"enter humidity: \")\n",
        "  h = int(input())\n",
        "  print(\"enter wind speed: \")\n",
        "  wind = int(input())\n",
        "  tw = (0.5*t*t) - (0.2*h) + (0.1*wind) - 15\n",
        "  w = classify_weather(tw)\n",
        "  print(\"the day was: \"+w)\n",
        "  print(\"do you want to save this data? 0/1\")\n",
        "  choice = int(input());\n",
        "  if(choice == 1):\n",
        "    d = str(input(\"enter date: \"))\n",
        "    sheet.append([d,t,h,wind,tw,w])\n",
        "    wb.save(\"/content/sample_data/new-weather-data.xlsx\")\n",
        "else:\n",
        "  print(\"enter date: \");\n",
        "  d = str(input())\n",
        "  for row in weatherData:\n",
        "    if(row[0] == d):\n",
        "      w = classify_weather(row[1])\n",
        "      print(\"the day was: \"+w)\n",
        "      break\n",
        "  else:\n",
        "    print(\"no data found\")\n",
        "\n"
      ],
      "metadata": {
        "colab": {
          "base_uri": "https://localhost:8080/"
        },
        "id": "3Aw7z5tBcoVj",
        "outputId": "eedd7718-21f8-4185-ec4e-9d5b4618b593"
      },
      "execution_count": 23,
      "outputs": [
        {
          "name": "stdout",
          "output_type": "stream",
          "text": [
            "do you want to enter your own data or get data from existing file? press 0 for your own data, press 1 to get exsisting data\n",
            "0\n",
            "enter temp: \n",
            "24\n",
            "enter humidity: \n",
            "62\n",
            "enter wind speed: \n",
            "11\n",
            "the day was: Cloudy\n",
            "do you want to save this data? 0/1\n",
            "1\n",
            "enter date: 9-12-2024\n"
          ]
        }
      ]
    }
  ]
}